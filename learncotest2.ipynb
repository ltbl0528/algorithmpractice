{
  "nbformat": 4,
  "nbformat_minor": 0,
  "metadata": {
    "colab": {
      "name": "learncotest2.ipynb",
      "provenance": [],
      "toc_visible": true,
      "authorship_tag": "ABX9TyOUpncATiiPSh7iPbR19Iqb",
      "include_colab_link": true
    },
    "kernelspec": {
      "name": "python3",
      "display_name": "Python 3"
    },
    "language_info": {
      "name": "python"
    }
  },
  "cells": [
    {
      "cell_type": "markdown",
      "metadata": {
        "id": "view-in-github",
        "colab_type": "text"
      },
      "source": [
        "<a href=\"https://colab.research.google.com/github/ltbl0528/algorithmpractice/blob/main/learncotest2.ipynb\" target=\"_parent\"><img src=\"https://colab.research.google.com/assets/colab-badge.svg\" alt=\"Open In Colab\"/></a>"
      ]
    },
    {
      "cell_type": "markdown",
      "source": [
        "#**탐욕법 Greedy Algorithm**\n",
        "\n",
        "\n",
        "\n",
        "---\n",
        "\n",
        "\n",
        "\n",
        "*   매 '순간'마다 **최선의 경우**👍만 골라 간다\n",
        "*   다른 경우는 고려 ❌ 나중을 생각 ❌\n",
        "\n",
        "\n",
        "> 예를 들어 A, B, C, D 가 있을 때, B를 고르는 것이 지금 최선이지만, 나중을 고려했을 땐 D가 최선일 때를 그리디 알고리즘은 고려하지 않음\n",
        "\n",
        "\n",
        "\n",
        "*   모든 경우를 보지 않으니, *완전탐색보다 빠르다*!\n",
        "*   어떤 경우가 **최선**인지 찾는 게 포인트 -> 규칙성을 찾아야 하기도\n",
        "\n",
        "\n",
        "\n"
      ],
      "metadata": {
        "id": "6rzCUl6W-I71"
      }
    },
    {
      "cell_type": "markdown",
      "source": [
        "##**예제**"
      ],
      "metadata": {
        "id": "PZHu0pr8AK1A"
      }
    },
    {
      "cell_type": "code",
      "source": [
        "change = int(input())\n",
        "coin = 0\n",
        "while change:\n",
        "  if change / 500 > 1:\n",
        "    coin += change // 500\n",
        "    change = change % 500\n",
        "  elif change / 100 > 1:\n",
        "    coin += change // 100\n",
        "    change = change % 100\n",
        "  elif change / 50 > 1:\n",
        "    coin += change // 50\n",
        "    change = int(change % 50)\n",
        "  elif change / 10 > 1:\n",
        "    coin += change // 10\n",
        "    change = int(change % 10)\n",
        "\n",
        "print(coin)"
      ],
      "metadata": {
        "colab": {
          "base_uri": "https://localhost:8080/"
        },
        "id": "nnVFqtJbAcQx",
        "outputId": "d76dd46d-ae4f-46a5-c3cb-c2c82f1ebb3d"
      },
      "execution_count": null,
      "outputs": [
        {
          "output_type": "stream",
          "name": "stdout",
          "text": [
            "800\n",
            "4\n"
          ]
        }
      ]
    }
  ]
}