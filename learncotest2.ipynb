{
  "nbformat": 4,
  "nbformat_minor": 0,
  "metadata": {
    "colab": {
      "name": "learncotest2.ipynb",
      "provenance": [],
      "collapsed_sections": [],
      "toc_visible": true,
      "authorship_tag": "ABX9TyMiTN2Hy+1dN2rIoMEMpF5A",
      "include_colab_link": true
    },
    "kernelspec": {
      "name": "python3",
      "display_name": "Python 3"
    },
    "language_info": {
      "name": "python"
    }
  },
  "cells": [
    {
      "cell_type": "markdown",
      "metadata": {
        "id": "view-in-github",
        "colab_type": "text"
      },
      "source": [
        "<a href=\"https://colab.research.google.com/github/ltbl0528/algorithmpractice/blob/main/learncotest2.ipynb\" target=\"_parent\"><img src=\"https://colab.research.google.com/assets/colab-badge.svg\" alt=\"Open In Colab\"/></a>"
      ]
    },
    {
      "cell_type": "markdown",
      "source": [
        "#**탐욕법 Greedy Algorithm**\n",
        "\n",
        "\n",
        "\n",
        "---\n",
        "\n",
        "\n",
        "\n",
        "*   매 '순간'마다 **최선의 경우**👍만 골라 간다\n",
        "*   다른 경우는 고려 ❌ 나중을 생각 ❌\n",
        "\n",
        "\n",
        "> 예를 들어 A, B, C, D 가 있을 때, B를 고르는 것이 지금 최선이지만, 나중을 고려했을 땐 D가 최선일 때를 그리디 알고리즘은 고려하지 않음\n",
        "\n",
        "\n",
        "\n",
        "*   모든 경우를 보지 않으니, *완전탐색보다 빠르다*!\n",
        "*   어떤 경우가 **최선**인지 찾는 게 포인트 -> 규칙성을 찾아야 하기도\n",
        "\n",
        "\n",
        "\n"
      ],
      "metadata": {
        "id": "6rzCUl6W-I71"
      }
    },
    {
      "cell_type": "markdown",
      "source": [
        "##**그리디 문제의 진짜 어려운 부분**\n",
        "\n",
        "우리는 이 문제가 그리디 문제인지 판별하기 어렵다😓  \n",
        "-> 이 문제가 진짜 그리디일까...? 그리디로 접근하면 반례가 있지 않을까...?"
      ],
      "metadata": {
        "id": "nk68EpJuq54C"
      }
    },
    {
      "cell_type": "markdown",
      "source": [
        "##**예제**"
      ],
      "metadata": {
        "id": "PZHu0pr8AK1A"
      }
    },
    {
      "cell_type": "markdown",
      "source": [
        "###**동전 거스름돈 문제🪙**\n",
        "10, 50, 100, 500원 동전들을 무한히 갖고 있다.   \n",
        "손님에게 800원을 거슬러주려고 할 때, 동전을 최소한으로 주는 방법은?"
      ],
      "metadata": {
        "id": "6e56dQAyoW8J"
      }
    },
    {
      "cell_type": "code",
      "source": [
        "change = 800\n",
        "coin = 0\n",
        "while change:\n",
        "  if change / 500 > 1:\n",
        "    coin += change // 500\n",
        "    change = change % 500\n",
        "  elif change / 100 > 1:\n",
        "    coin += change // 100\n",
        "    change = change % 100\n",
        "  elif change / 50 > 1:\n",
        "    coin += change // 50\n",
        "    change = int(change % 50)\n",
        "  elif change / 10 > 1:\n",
        "    coin += change // 10\n",
        "    change = int(change % 10)\n",
        "\n",
        "print(coin)"
      ],
      "metadata": {
        "colab": {
          "base_uri": "https://localhost:8080/"
        },
        "id": "nnVFqtJbAcQx",
        "outputId": "c41228ef-4bbd-4342-e6ec-09fc15432fee"
      },
      "execution_count": null,
      "outputs": [
        {
          "output_type": "stream",
          "name": "stdout",
          "text": [
            "4\n"
          ]
        }
      ]
    },
    {
      "cell_type": "markdown",
      "source": [
        "이 문제를 푸는 방법은 가장 단위가 큰 동전부터 줄 수 있는 만큼 주고, 남은 금액을 그 다음 단위가 큰 동전...(후략)  \n",
        "즉, **단위가 '큰' 동전 순서**대로 준다! -> *그리디!*  \n",
        "</br>\n",
        "\n",
        "---\n",
        "\n",
        "</br>\n",
        "\n",
        "> 그렇다면, 100, 400, 500원 동전을 무한히 갖고 있다면? 손님에게 800원을 거슬러주려고 할 때 어떻게 해야 할까?  \n",
        "이번에는 단위가 가장 큰 500원부터 주는 것보다, 400원 동전을 2개 주는 것이 최소다.  \n",
        "**따라서, 이 문제는 그리디로 풀 수 없다!**\n",
        "\n",
        "</br>\n",
        "\n",
        "**왜⁉ 무슨 차이가 있기에?** 🤔\n",
        "\n",
        "앞선 문제는 작은 단위들이 큰 단위의 **배수 관계**였다. 그러므로 가장 큰 단위(500)는 작은 단위들의 배수.  \n",
        "but, 400, 500은 배수 관계가 ❌  \n",
        "(가장 큰 단위를 거슬렀을 때 가장 이득이 아닐 수 있다는 반례가 생겨버린다...)\n"
      ],
      "metadata": {
        "id": "eeshCDSmoy71"
      }
    },
    {
      "cell_type": "markdown",
      "source": [
        "###[백준 - 11047. 동전 0](https://www.acmicpc.net/problem/11047)\n",
        "\n",
        "준규가 가지고 있는 동전은 총 N종류이고, 각각의 동전을 매우 많이 가지고 있다.\n",
        "\n",
        "동전을 적절히 사용해서 그 가치의 합을 K로 만들려고 한다. 이때 필요한 동전 개수의 최솟값을 구하는 프로그램을 작성하시오.\n",
        "\n",
        "첫째 줄에 N과 K가 주어진다. (1 ≤ N ≤ 10, 1 ≤ K ≤ 100,000,000)\n",
        "\n",
        "둘째 줄부터 N개의 줄에 동전의 가치 Ai가 오름차순으로 주어진다. (1 ≤ Ai ≤ 1,000,000, A1 = 1, i ≥ 2인 경우에 Ai는 Ai-1의 배수)\n",
        "\n",
        "첫째 줄에 K원을 만드는데 필요한 동전 개수의 최솟값을 출력한다."
      ],
      "metadata": {
        "id": "bYU-Z7g5roLM"
      }
    },
    {
      "cell_type": "code",
      "source": [
        "#컴공선배 풀이\n",
        "\n",
        "n, k = map(int, input().split())\n",
        "coins = [int(input()) for _ in range(n)] #동전의 가치를 입력받는다\n",
        "coins.reverse() #제일 큰 단위가 앞에 오도록\n",
        "\n",
        "ans = 0 #답을 저장할 변수 선언\n",
        "\n",
        "for coin in coins :\n",
        "  ans += k // coin\n",
        "  k %= coin\n",
        "  \n",
        "print(ans)"
      ],
      "metadata": {
        "colab": {
          "base_uri": "https://localhost:8080/"
        },
        "id": "KK6UZ8yHtQpD",
        "outputId": "e8e2301e-f4cd-4e5e-9c36-ac4796c05446"
      },
      "execution_count": null,
      "outputs": [
        {
          "output_type": "stream",
          "name": "stdout",
          "text": [
            "10 4200\n",
            "1\n",
            "5\n",
            "10\n",
            "50\n",
            "100\n",
            "500\n",
            "1000\n",
            "5000\n",
            "10000\n",
            "50000\n",
            "6\n"
          ]
        }
      ]
    },
    {
      "cell_type": "markdown",
      "source": [
        "###[백준 - 1449. 수리공 항승](https://www.acmicpc.net/problem/1449)\n",
        "\n",
        "\n",
        "항승이는 품질이 심각하게 나쁜 수도 파이프 회사의 수리공이다. 항승이는 세준 지하철 공사에서 물이 샌다는 소식을 듣고 수리를 하러 갔다.\n",
        "\n",
        "파이프에서 물이 새는 곳은 신기하게도 가장 왼쪽에서 정수만큼 떨어진 거리만 물이 샌다.\n",
        "\n",
        "항승이는 길이가 L인 테이프를 무한개 가지고 있다.\n",
        "\n",
        "항승이는 테이프를 이용해서 물을 막으려고 한다. 항승이는 항상 물을 막을 때, 적어도 그 위치의 좌우 0.5만큼 간격을 줘야 물이 다시는 안 샌다고 생각한다.\n",
        "\n",
        "물이 새는 곳의 위치와, 항승이가 가지고 있는 테이프의 길이 L이 주어졌을 때, 항승이가 필요한 테이프의 최소 개수를 구하는 프로그램을 작성하시오. 테이프를 자를 수 없고, 테이프를 겹쳐서 붙이는 것도 가능하다.\n",
        "\n",
        "첫째 줄에 물이 새는 곳의 개수 N과 테이프의 길이 L이 주어진다. 둘째 줄에는 물이 새는 곳의 위치가 주어진다. N과 L은 1,000보다 작거나 같은 자연수이고, 물이 새는 곳의 위치는 1,000보다 작거나 같은 자연수이다.\n",
        "\n",
        "첫째 줄에 항승이가 필요한 테이프의 개수를 출력한다."
      ],
      "metadata": {
        "id": "Rh_Pdq3UrLZm"
      }
    },
    {
      "cell_type": "code",
      "source": [
        "#컴공선배 풀이\n",
        "N, L = map(int, input().split())\n",
        "coordi = [False] * 1001 #좌표에 모두 false를 집어 넣음(구멍난 곳만 true로 표시할 수 있게)\n",
        "for i in map(int, input().split()):\n",
        "  coordi[i] = True\n",
        "\n",
        "ans = 0\n",
        "x = 0 #현재 살펴보고 있는 좌표\n",
        "\n",
        "while x < 1001:\n",
        "  if coordi[x]: #구멍난 칸\n",
        "    ans += 1 #테이프 하나 쓰고\n",
        "    x += L #테이프 길이만큼 좌표 건너 뛰기\n",
        "  else:\n",
        "    x += 1\n",
        "\n",
        "print(ans)"
      ],
      "metadata": {
        "colab": {
          "base_uri": "https://localhost:8080/"
        },
        "id": "ldbJLyLDrjNz",
        "outputId": "42fbb36b-047a-4e7d-92d6-07fa9926d6cb"
      },
      "execution_count": null,
      "outputs": [
        {
          "output_type": "stream",
          "name": "stdout",
          "text": [
            "5 1\n",
            "100 74 23 99 366\n",
            "5\n"
          ]
        }
      ]
    },
    {
      "cell_type": "code",
      "source": [
        "#만약 좌표가 1000이 훨씬 넘는 너무 큰 숫자라면?\n",
        "N, L = map(int, input().split())\n",
        "coordi = list(map(int, input().split())) #좌표 압축\n",
        "coordi.sort()\n",
        "\n",
        "ans = 0\n",
        "\n",
        "for i in range(N):\n",
        "  for j in range(N):\n",
        "    if (coordi[i] + L) == coordi[j]:\n",
        "      \n",
        "\n",
        "print(ans)"
      ],
      "metadata": {
        "colab": {
          "base_uri": "https://localhost:8080/"
        },
        "id": "FdmsqiqwyDYm",
        "outputId": "fd9fbd8e-d18b-40b0-afee-f860e8aa690d"
      },
      "execution_count": null,
      "outputs": [
        {
          "output_type": "stream",
          "name": "stdout",
          "text": [
            "4 3\n",
            "1 2 3 4\n",
            "3\n"
          ]
        }
      ]
    },
    {
      "cell_type": "markdown",
      "source": [
        "###[백준 - 2839. 설탕 배달](https://www.acmicpc.net/problem/2839)\n",
        "\n",
        "상근이는 요즘 설탕공장에서 설탕을 배달하고 있다. 상근이는 지금 사탕가게에 설탕을 정확하게 N킬로그램을 배달해야 한다. 설탕공장에서 만드는 설탕은 봉지에 담겨져 있다. 봉지는 3킬로그램 봉지와 5킬로그램 봉지가 있다.\n",
        "\n",
        "상근이는 귀찮기 때문에, 최대한 적은 봉지를 들고 가려고 한다. 예를 들어, 18킬로그램 설탕을 배달해야 할 때, 3킬로그램 봉지 6개를 가져가도 되지만, 5킬로그램 3개와 3킬로그램 1개를 배달하면, 더 적은 개수의 봉지를 배달할 수 있다.\n",
        "\n",
        "상근이가 설탕을 정확하게 N킬로그램 배달해야 할 때, 봉지 몇 개를 가져가면 되는지 그 수를 구하는 프로그램을 작성하시오.\n",
        "\n",
        "첫째 줄에 N이 주어진다. (3 ≤ N ≤ 5000)\n",
        "\n",
        "상근이가 배달하는 봉지의 최소 개수를 출력한다. 만약, 정확하게 N킬로그램을 만들 수 없다면 -1을 출력한다."
      ],
      "metadata": {
        "id": "U7S9AKpRrzYM"
      }
    },
    {
      "cell_type": "code",
      "source": [
        "N = int(input())\n",
        "ans = 0\n",
        "\n",
        "if N % 5 <= 3 and N % 5 > 0:\n",
        "  ans += N // 5\n",
        "  ans += N // 3\n",
        "  print(ans)\n",
        "elif N // 5 >= 1 and N % 5 == 0:\n",
        "  ans += N // 5\n",
        "  N %= 5\n",
        "elif N // 3 >= 1 and N % 3 == 0:\n",
        "  ans += N // 3\n",
        "  N %= 3\n",
        "else:\n",
        "  print(-1)\n",
        "\n",
        "if N == 0:\n",
        "  print(ans)"
      ],
      "metadata": {
        "colab": {
          "base_uri": "https://localhost:8080/"
        },
        "id": "b93fFwdOsBA0",
        "outputId": "2225cddc-4405-45c7-83e8-3b09b901e5a9"
      },
      "execution_count": null,
      "outputs": [
        {
          "output_type": "stream",
          "name": "stdout",
          "text": [
            "22\n",
            "11\n"
          ]
        }
      ]
    },
    {
      "cell_type": "markdown",
      "source": [
        "##**정리**\n",
        "\n",
        "\n",
        "1.   무식하게 모든 경우의 수를 살펴봐도 시간 초과가 나지 않을지 확인\n",
        "2.   시간 초과 ❌ -> 완탐  \n",
        "안될 거 같으면 다른 효율적인 알고리즘 찾기 (ex) 그리디, DP, 이분법...\n",
        "3.   그리디는 반례가 없을지 신중히 고려\n",
        "\n"
      ],
      "metadata": {
        "id": "p4swoRJL2bI9"
      }
    },
    {
      "cell_type": "markdown",
      "source": [
        "#**DFS, BFS, 백트래킹**\n",
        "\n",
        "완전탐색 알고리즘의 일종"
      ],
      "metadata": {
        "id": "G7gWV0wYkl87"
      }
    },
    {
      "cell_type": "markdown",
      "source": [
        "## **들어가기 전, 알아야 할 자료구조**"
      ],
      "metadata": {
        "id": "2RoJPA-73Qnt"
      }
    },
    {
      "cell_type": "markdown",
      "source": [
        "## **그래프 Graph**\n",
        "\n",
        "개념들의 관계를 도식화해서 나타내는 자료구조  \n",
        "\n",
        "*   지도, 내비게이션\n",
        "*   SNS / 메신저\n",
        "*   VCS(Version Control System) 버전 관리 시스템\n",
        "\n",
        "![Image in a markdown cell](https://media.vlpt.us/images/minjae-mj/post/f8d49d11-5ae1-4fad-aced-ada992c8bcf0/graph.png)"
      ],
      "metadata": {
        "id": "Dsr7hhsmk5Kp"
      }
    },
    {
      "cell_type": "markdown",
      "source": [
        "### **그래프의 종류**\n",
        "\n",
        "**-그래프에 방향성이 있는가?**\n",
        "\n",
        "*   **무방향 그래프**(=양방향 그래프) : 방향 ❌ (위의 사진처럼 방향에 따른 제한이 없음)\n",
        "*   **방향 그래프** : 방향 ⭕ ( 0 -> 1 이런 식으로 방향이 나 있다면 0에서 1로는 갈 수 있지만, 1에서 0으론 갈 수 없다.)\n",
        "\n",
        "**-그래프 전체를 통틀어 사이클이 있는가?**\n",
        "\n",
        "* **순환 그래프** : 방향 그래프 중 사이클이 있는 그래프\n",
        "* **비순환 그래프** : 방향 그래프 중 사이클이 없는 그래프  \n",
        "\n",
        "<br/>\n",
        "\n",
        "---\n",
        "\n",
        "- 방향성 비순환 그래프 **DAG, Directed Acyclic Graph**\n",
        "\n",
        "\n",
        "![Image in a markdown cell](https://hazelcast.com/wp-content/uploads/2021/12/diagram-DAG-2.png)\n",
        "\n",
        "  예 : VCS(버전 관리 시스템) -> 방향성은 띄지만, 사이클은 존재하지 않음\n",
        "\n",
        "- 연결 요소 **Connected Component**\n",
        "\n",
        "\n",
        "![Image in a markdown cell](https://media.geeksforgeeks.org/wp-content/uploads/20200421194558/Count-of-Connected-Components.png)\n",
        "\n",
        "\n",
        "\n"
      ],
      "metadata": {
        "id": "ZvtSPZBSmyhy"
      }
    },
    {
      "cell_type": "markdown",
      "source": [
        "## **트리 Tree**\n",
        "\n",
        "순환성이 없는 무방향 그래프  \n",
        "\n",
        "  \n",
        "![tree image](https://miro.medium.com/max/975/1*PWJiwTxRdQy8A_Y0hAv5Eg.png)\n",
        "\n",
        "\n",
        "\n",
        "*   특정하지 않는 한 어떤 노드든지 **루트(root)**가 될 수 있다\n",
        "*   가장 바깥쪽 노드는 **리프 노드(leaf node)**\n",
        "*  node A ➡ node B의 경로는 **반드시 존재**하며, **유일**하다\n",
        "* **node 개수 = 간선(edge) 개수 + 1** (tree 여부를 파악할 수 있음)\n",
        "\n",
        "<br/>\n",
        "\n",
        "---\n",
        "\n",
        "\n",
        "\n",
        "*   자료구조에서의 트리는 **부모 ➡ 자식 관계**가 있는 **방향 그래프**이다.\n",
        "*   **루트 root는 하나**다\n",
        "\n",
        "![datastructure_tree](https://jeremykun.files.wordpress.com/2012/09/tree.png)\n",
        "\n",
        "\n",
        "방향성 있는 트리가 문제에 자주 나오긴 하는데, 앞선 트리도 나오기 때문에 문제에 따라서 잘 보기!"
      ],
      "metadata": {
        "id": "IpbjHZYBqNBC"
      }
    },
    {
      "cell_type": "markdown",
      "source": [
        "##  **코드로 그래프를 나타내는 법**\n",
        "\n",
        "\n",
        "\n",
        "1.   **인접행렬**\n",
        "![](https://t1.daumcdn.net/cfile/tistory/99F7B9485B54360A21)\n",
        "**row number**는 edge의 **시작 index**, **column number**는 **도착 index**\n",
        "\n",
        "(0, 1)은 0 ➡ 1의 edge를 나타냄. edge가 있는 부분에만 1로 표시함.  \n",
        "무방향 그래프(양방향 그래프)는 행렬 대각선(n,n)을 기준으로 **대칭 구조**를 이룸.\n",
        "2.   **인접리스트**\n",
        "\n",
        "![](https://img1.daumcdn.net/thumb/R800x0/?scode=mtistory2&fname=https%3A%2F%2Fblog.kakaocdn.net%2Fdn%2Fd9EdOy%2FbtqGkkp1Hex%2F7SX8nIxICPltLHnaPsz2Ik%2Fimg.jpg)  \n",
        "\n",
        "인접행렬과 차이점 : edge가 없는 부분도 공간이 할당됐지만, **인접리스트는 edge가 있는 부분만 공간이 할당**됨\n",
        "\n",
        "연결리스트로 보이지만, 실제 구현할 때는 **C++에서는 vector**, **Python에서는 리스트**를 쓰는 경우가 많음"
      ],
      "metadata": {
        "id": "OWUZselEtQvd"
      }
    },
    {
      "cell_type": "markdown",
      "source": [
        "### **인접행렬 vs 인접리스트**\n",
        "\n",
        "1. **메모리 측면**의 차이  \n",
        "  **인접행렬**은 **node가 N**개라면 무조건! **N^2의 메모리**를 쓰게 됨 (간선이 몇 개든 상관 ❌)\n",
        "\n",
        "  **인접리스트**는 **간선 개수가 적을수록** 메모리 할당량도 적어짐 ➡ 메모리 측면에서 유리!\n",
        "\n",
        "2. **시간 복잡도**의 차이  \n",
        "시간 <-> 공간이므로, **인접행렬**은 **임의 접근**을 통해 **O(1)의 시간 복잡도로 간선 탐색**가능!  \n",
        "  **인접리스트**는 **임의 접근이 불가능**하므로(벡터나 리스트로 구현했더라도), (0, 3)에 간선이 있는지 보려면 0번 행을 다 돌며 3이 있는지 검사하는 수밖에 없음... **시간 복잡도 O(N)** 😞\n",
        "\n",
        "\n",
        "<br/>\n",
        "\n",
        "---\n",
        "\n",
        "<br/>\n",
        "\n",
        "따라서, 정점 N개에 간선 N^2라면, 인접행렬이 유리하다.  \n",
        "but 정점 N개에 간선 2N개라면 인접리스트를 쓰는 게 나을 수도 있다!\n",
        "\n",
        "➡ 문제 입력 조건을 보고 어느 쪽을 쓸지 따져보기"
      ],
      "metadata": {
        "id": "J0K2Qiqvy-DP"
      }
    }
  ]
}