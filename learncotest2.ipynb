{
  "nbformat": 4,
  "nbformat_minor": 0,
  "metadata": {
    "colab": {
      "name": "learncotest2.ipynb",
      "provenance": [],
      "collapsed_sections": [],
      "toc_visible": true,
      "authorship_tag": "ABX9TyPszmpGmX36tl1iAy3XnYzQ",
      "include_colab_link": true
    },
    "kernelspec": {
      "name": "python3",
      "display_name": "Python 3"
    },
    "language_info": {
      "name": "python"
    }
  },
  "cells": [
    {
      "cell_type": "markdown",
      "metadata": {
        "id": "view-in-github",
        "colab_type": "text"
      },
      "source": [
        "<a href=\"https://colab.research.google.com/github/ltbl0528/algorithmpractice/blob/main/learncotest2.ipynb\" target=\"_parent\"><img src=\"https://colab.research.google.com/assets/colab-badge.svg\" alt=\"Open In Colab\"/></a>"
      ]
    },
    {
      "cell_type": "markdown",
      "source": [
        "#**탐욕법 Greedy Algorithm**\n",
        "\n",
        "\n",
        "\n",
        "---\n",
        "\n",
        "\n",
        "\n",
        "*   매 '순간'마다 **최선의 경우**👍만 골라 간다\n",
        "*   다른 경우는 고려 ❌ 나중을 생각 ❌\n",
        "\n",
        "\n",
        "> 예를 들어 A, B, C, D 가 있을 때, B를 고르는 것이 지금 최선이지만, 나중을 고려했을 땐 D가 최선일 때를 그리디 알고리즘은 고려하지 않음\n",
        "\n",
        "\n",
        "\n",
        "*   모든 경우를 보지 않으니, *완전탐색보다 빠르다*!\n",
        "*   어떤 경우가 **최선**인지 찾는 게 포인트 -> 규칙성을 찾아야 하기도\n",
        "\n",
        "\n",
        "\n"
      ],
      "metadata": {
        "id": "6rzCUl6W-I71"
      }
    },
    {
      "cell_type": "markdown",
      "source": [
        "##**그리디 문제의 진짜 어려운 부분**\n",
        "\n",
        "우리는 이 문제가 그리디 문제인지 판별하기 어렵다😓  \n",
        "-> 이 문제가 진짜 그리디일까...? 그리디로 접근하면 반례가 있지 않을까...?"
      ],
      "metadata": {
        "id": "nk68EpJuq54C"
      }
    },
    {
      "cell_type": "markdown",
      "source": [
        "##**예제**"
      ],
      "metadata": {
        "id": "PZHu0pr8AK1A"
      }
    },
    {
      "cell_type": "markdown",
      "source": [
        "###**동전 거스름돈 문제🪙**\n",
        "10, 50, 100, 500원 동전들을 무한히 갖고 있다.   \n",
        "손님에게 800원을 거슬러주려고 할 때, 동전을 최소한으로 주는 방법은?"
      ],
      "metadata": {
        "id": "6e56dQAyoW8J"
      }
    },
    {
      "cell_type": "code",
      "source": [
        "change = 800\n",
        "coin = 0\n",
        "while change:\n",
        "  if change / 500 > 1:\n",
        "    coin += change // 500\n",
        "    change = change % 500\n",
        "  elif change / 100 > 1:\n",
        "    coin += change // 100\n",
        "    change = change % 100\n",
        "  elif change / 50 > 1:\n",
        "    coin += change // 50\n",
        "    change = int(change % 50)\n",
        "  elif change / 10 > 1:\n",
        "    coin += change // 10\n",
        "    change = int(change % 10)\n",
        "\n",
        "print(coin)"
      ],
      "metadata": {
        "colab": {
          "base_uri": "https://localhost:8080/"
        },
        "id": "nnVFqtJbAcQx",
        "outputId": "c41228ef-4bbd-4342-e6ec-09fc15432fee"
      },
      "execution_count": null,
      "outputs": [
        {
          "output_type": "stream",
          "name": "stdout",
          "text": [
            "4\n"
          ]
        }
      ]
    },
    {
      "cell_type": "markdown",
      "source": [
        "이 문제를 푸는 방법은 가장 단위가 큰 동전부터 줄 수 있는 만큼 주고, 남은 금액을 그 다음 단위가 큰 동전...(후략)  \n",
        "즉, **단위가 '큰' 동전 순서**대로 준다! -> *그리디!*  \n",
        "</br>\n",
        "\n",
        "---\n",
        "\n",
        "</br>\n",
        "\n",
        "> 그렇다면, 100, 400, 500원 동전을 무한히 갖고 있다면? 손님에게 800원을 거슬러주려고 할 때 어떻게 해야 할까?  \n",
        "이번에는 단위가 가장 큰 500원부터 주는 것보다, 400원 동전을 2개 주는 것이 최소다.  \n",
        "**따라서, 이 문제는 그리디로 풀 수 없다!**\n",
        "\n",
        "</br>\n",
        "\n",
        "**왜⁉ 무슨 차이가 있기에?** 🤔\n",
        "\n",
        "앞선 문제는 작은 단위들이 큰 단위의 **배수 관계**였다. 그러므로 가장 큰 단위(500)는 작은 단위들의 배수.  \n",
        "but, 400, 500은 배수 관계가 ❌  \n",
        "(가장 큰 단위를 거슬렀을 때 가장 이득이 아닐 수 있다는 반례가 생겨버린다...)\n"
      ],
      "metadata": {
        "id": "eeshCDSmoy71"
      }
    },
    {
      "cell_type": "markdown",
      "source": [
        "###[백준 - 11047. 동전 0](https://www.acmicpc.net/problem/11047)\n",
        "\n",
        "준규가 가지고 있는 동전은 총 N종류이고, 각각의 동전을 매우 많이 가지고 있다.\n",
        "\n",
        "동전을 적절히 사용해서 그 가치의 합을 K로 만들려고 한다. 이때 필요한 동전 개수의 최솟값을 구하는 프로그램을 작성하시오.\n",
        "\n",
        "첫째 줄에 N과 K가 주어진다. (1 ≤ N ≤ 10, 1 ≤ K ≤ 100,000,000)\n",
        "\n",
        "둘째 줄부터 N개의 줄에 동전의 가치 Ai가 오름차순으로 주어진다. (1 ≤ Ai ≤ 1,000,000, A1 = 1, i ≥ 2인 경우에 Ai는 Ai-1의 배수)\n",
        "\n",
        "첫째 줄에 K원을 만드는데 필요한 동전 개수의 최솟값을 출력한다."
      ],
      "metadata": {
        "id": "bYU-Z7g5roLM"
      }
    },
    {
      "cell_type": "code",
      "source": [
        "#컴공선배 풀이\n",
        "\n",
        "n, k = map(int, input().split())\n",
        "coins = [int(input()) for _ in range(n)] #동전의 가치를 입력받는다\n",
        "coins.reverse() #제일 큰 단위가 앞에 오도록\n",
        "\n",
        "ans = 0 #답을 저장할 변수 선언\n",
        "\n",
        "for coin in coins :\n",
        "  ans += k // coin\n",
        "  k %= coin\n",
        "  \n",
        "print(ans)"
      ],
      "metadata": {
        "colab": {
          "base_uri": "https://localhost:8080/"
        },
        "id": "KK6UZ8yHtQpD",
        "outputId": "e8e2301e-f4cd-4e5e-9c36-ac4796c05446"
      },
      "execution_count": null,
      "outputs": [
        {
          "output_type": "stream",
          "name": "stdout",
          "text": [
            "10 4200\n",
            "1\n",
            "5\n",
            "10\n",
            "50\n",
            "100\n",
            "500\n",
            "1000\n",
            "5000\n",
            "10000\n",
            "50000\n",
            "6\n"
          ]
        }
      ]
    },
    {
      "cell_type": "markdown",
      "source": [
        "###[백준 - 1449. 수리공 항승](https://www.acmicpc.net/problem/1449)\n",
        "\n",
        "\n",
        "항승이는 품질이 심각하게 나쁜 수도 파이프 회사의 수리공이다. 항승이는 세준 지하철 공사에서 물이 샌다는 소식을 듣고 수리를 하러 갔다.\n",
        "\n",
        "파이프에서 물이 새는 곳은 신기하게도 가장 왼쪽에서 정수만큼 떨어진 거리만 물이 샌다.\n",
        "\n",
        "항승이는 길이가 L인 테이프를 무한개 가지고 있다.\n",
        "\n",
        "항승이는 테이프를 이용해서 물을 막으려고 한다. 항승이는 항상 물을 막을 때, 적어도 그 위치의 좌우 0.5만큼 간격을 줘야 물이 다시는 안 샌다고 생각한다.\n",
        "\n",
        "물이 새는 곳의 위치와, 항승이가 가지고 있는 테이프의 길이 L이 주어졌을 때, 항승이가 필요한 테이프의 최소 개수를 구하는 프로그램을 작성하시오. 테이프를 자를 수 없고, 테이프를 겹쳐서 붙이는 것도 가능하다.\n",
        "\n",
        "첫째 줄에 물이 새는 곳의 개수 N과 테이프의 길이 L이 주어진다. 둘째 줄에는 물이 새는 곳의 위치가 주어진다. N과 L은 1,000보다 작거나 같은 자연수이고, 물이 새는 곳의 위치는 1,000보다 작거나 같은 자연수이다.\n",
        "\n",
        "첫째 줄에 항승이가 필요한 테이프의 개수를 출력한다."
      ],
      "metadata": {
        "id": "Rh_Pdq3UrLZm"
      }
    },
    {
      "cell_type": "code",
      "source": [
        "#컴공선배 풀이\n",
        "N, L = map(int, input().split())\n",
        "coordi = [False] * 1001 #좌표에 모두 false를 집어 넣음(구멍난 곳만 true로 표시할 수 있게)\n",
        "for i in map(int, input().split()):\n",
        "  coordi[i] = True\n",
        "\n",
        "ans = 0\n",
        "x = 0 #현재 살펴보고 있는 좌표\n",
        "\n",
        "while x < 1001:\n",
        "  if coordi[x]: #구멍난 칸\n",
        "    ans += 1 #테이프 하나 쓰고\n",
        "    x += L #테이프 길이만큼 좌표 건너 뛰기\n",
        "  else:\n",
        "    x += 1\n",
        "\n",
        "print(ans)"
      ],
      "metadata": {
        "colab": {
          "base_uri": "https://localhost:8080/"
        },
        "id": "ldbJLyLDrjNz",
        "outputId": "42fbb36b-047a-4e7d-92d6-07fa9926d6cb"
      },
      "execution_count": 11,
      "outputs": [
        {
          "output_type": "stream",
          "name": "stdout",
          "text": [
            "5 1\n",
            "100 74 23 99 366\n",
            "5\n"
          ]
        }
      ]
    },
    {
      "cell_type": "code",
      "source": [
        "#만약 좌표가 1000이 훨씬 넘는 너무 큰 숫자라면?\n",
        "N, L = map(int, input().split())\n",
        "coordi = list(map(int, input().split())) #좌표 압축\n",
        "coordi.sort()\n",
        "\n",
        "ans = 0\n",
        "temp = 0\n",
        "\n",
        "for i in range(N-1):\n",
        "  temp = coordi[i+1] - coordi[i]\n",
        "  if temp > L-1:\n",
        "    ans += 1\n",
        "  else:\n",
        "    \n"
      ],
      "metadata": {
        "colab": {
          "base_uri": "https://localhost:8080/"
        },
        "id": "FdmsqiqwyDYm",
        "outputId": "8ef628d4-aa93-462f-d0aa-07eb370e0b64"
      },
      "execution_count": 12,
      "outputs": [
        {
          "output_type": "stream",
          "name": "stdout",
          "text": [
            "4 2\n",
            "10 155 244 65\n",
            "[10, 65, 155, 244]\n"
          ]
        }
      ]
    },
    {
      "cell_type": "markdown",
      "source": [
        "##**정리**\n",
        "\n",
        "\n",
        "1.   무식하게 모든 경우의 수를 살펴봐도 시간 초과가 나지 않을지 확인\n",
        "2.   시간 초과 ❌ -> 완탐  \n",
        "안될 거 같으면 다른 효율적인 알고리즘 찾기 (ex) 그리디, DP, 이분법...\n",
        "3.   그리디는 반례가 없을지 신중히 고려\n",
        "\n"
      ],
      "metadata": {
        "id": "p4swoRJL2bI9"
      }
    }
  ]
}