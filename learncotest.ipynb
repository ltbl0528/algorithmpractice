{
  "nbformat": 4,
  "nbformat_minor": 0,
  "metadata": {
    "colab": {
      "name": "learncotest.ipynb",
      "provenance": [],
      "collapsed_sections": [
        "kR-Ud9M4E3VU",
        "lHc-S6I5AhY-",
        "baCzgZZKDocP",
        "FjcU_4Iqa-06",
        "oyrv7rtHdsh1",
        "6srlD8JqgXMl",
        "zX9pniOQl4u6",
        "Pk_WmAQxvheJ",
        "xokuS867BUmG",
        "632f_tWCKvwe",
        "a2t9TFUfOR5J",
        "6lCMaHPKYp7o",
        "__KYKGKXn3o5",
        "1rhTdL8W7RFc",
        "zszNB8kylfZD",
        "kS1rTb3uSXwZ",
        "J3On29sjOYSz",
        "Jo-hIIGiVevW",
        "pobKApB2Yd3j"
      ],
      "toc_visible": true,
      "authorship_tag": "ABX9TyMJ480q2Os04G6SnjWkpT9P",
      "include_colab_link": true
    },
    "kernelspec": {
      "name": "python3",
      "display_name": "Python 3"
    },
    "language_info": {
      "name": "python"
    }
  },
  "cells": [
    {
      "cell_type": "markdown",
      "metadata": {
        "id": "view-in-github",
        "colab_type": "text"
      },
      "source": [
        "<a href=\"https://colab.research.google.com/github/ltbl0528/algorithmpractice/blob/main/learncotest.ipynb\" target=\"_parent\"><img src=\"https://colab.research.google.com/assets/colab-badge.svg\" alt=\"Open In Colab\"/></a>"
      ]
    },
    {
      "cell_type": "markdown",
      "source": [
        "본 문서에서는 udemy 컴공 선배 강사님의 <알고리즘 코딩 테스트 입문부터 합격까지>를 수강하며 정리한 내용을 다룹니다😺"
      ],
      "metadata": {
        "id": "LO98ujc7610P"
      }
    },
    {
      "cell_type": "markdown",
      "source": [
        "# **입출력**"
      ],
      "metadata": {
        "id": "kR-Ud9M4E3VU"
      }
    },
    {
      "cell_type": "code",
      "execution_count": null,
      "metadata": {
        "colab": {
          "base_uri": "https://localhost:8080/"
        },
        "id": "Ph_yqGrr8yiF",
        "outputId": "a869a4da-fac3-49eb-b108-9c175ab34e8b"
      },
      "outputs": [
        {
          "output_type": "stream",
          "name": "stdout",
          "text": [
            "123 456\n",
            "125\n",
            "455\n"
          ]
        }
      ],
      "source": [
        "a, b = map(int, input().split()) #입력 받고 split으로 나눈 후 맵 객체로 반환\n",
        "print(a + 2)\n",
        "print(b - 1)"
      ]
    },
    {
      "cell_type": "code",
      "source": [
        "#빠른 입출력 함수\n",
        "import sys\n",
        "n = int(sys.stdin.readline())\n",
        "print(n)"
      ],
      "metadata": {
        "id": "qYAQ1yQc-n4a"
      },
      "execution_count": null,
      "outputs": []
    },
    {
      "cell_type": "markdown",
      "source": [
        "colab에선 readline()에서 다음과 같은 에러가 발생한다: 'invalid literal for int() with base 10: '''"
      ],
      "metadata": {
        "id": "59_-CCsy_8bd"
      }
    },
    {
      "cell_type": "markdown",
      "source": [
        "#**자료구조**\n",
        "\n",
        "\n",
        "\n",
        "코딩 테스트에서 주로 사용하는 자료구조\n"
      ],
      "metadata": {
        "id": "lHc-S6I5AhY-"
      }
    },
    {
      "cell_type": "markdown",
      "source": [
        "##**배열 Array**\n",
        "\n",
        " \n",
        "```\n",
        "# Python\n",
        "arr = [10, 11, 12, 13]\n",
        "arr[2] = 5\n",
        "\n",
        "//C++\n",
        "int arr[4] = {10, 11, 12, 13};\n",
        "arr[2] = 5;\n",
        "```\n",
        "\n",
        "\n",
        "\n",
        "1.   삽입/삭제: 시간복잡도 **O(N)**\n",
        "2.   탐색: 시간복잡도 **O(1)** --> **임의 접근(random access)**. 메모리 주소값을 계산해서 바로 접근함\n",
        "3.   Python에서는 리스트를 사용 / C++은 size 변경 불가하므로 vector를 더 많이 사용\n",
        "\n",
        "\n",
        "\n",
        "삽입/삭제는 적고, **탐색이 많은 경우** 배열이 유리. 그렇지 않은 경우에는 다른 자료구조를 쓰는 걸 추천.\n",
        "\n",
        "\n"
      ],
      "metadata": {
        "id": "baCzgZZKDocP"
      }
    },
    {
      "cell_type": "code",
      "source": [
        "# Python\n",
        "arr = [10, 11, 12, 13]\n",
        "arr[2] = 5\n",
        "print(arr)"
      ],
      "metadata": {
        "colab": {
          "base_uri": "https://localhost:8080/"
        },
        "id": "al3mBIRpjNEw",
        "outputId": "42ad0286-0623-4d84-8650-54c868409b21"
      },
      "execution_count": null,
      "outputs": [
        {
          "output_type": "stream",
          "name": "stdout",
          "text": [
            "[10, 11, 5, 13]\n"
          ]
        }
      ]
    },
    {
      "cell_type": "markdown",
      "source": [
        "##**벡터 Vector**\n",
        "\n",
        "\n",
        "\n",
        "```\n",
        "# Python\n",
        "v = []\n",
        "v.append((123, 456))\n",
        "v.append((789, 987))\n",
        "print(\"size:\", len(v))\n",
        "for p in v:\n",
        "  print(p)\n",
        "\n",
        "\n",
        "//C++\n",
        "vector<pair<int, int> > v;\n",
        "v.push_back(make_pair(123, 456));\n",
        "v.emplace_back(789, 987);\n",
        "printf(\"size: %d\\n\", v.size());\n",
        "for(auto p: v)\n",
        "  printf(\"%d, %d\\n\", p.first, p.second);\n",
        "```\n",
        "\n",
        "\n",
        "\n",
        "1.   삽입/삭제: **O(N)**\n",
        "2.   탐색: **O(1)**\n",
        "3.   **동적 배열 (size 변경 가능)**\n",
        "\n",
        "배열과 마찬가지로 삽입/삭제보다 **탐색에 유리**함. C++에서 pair를 사용할 경우 쌍을 만들어 사용할 수 있음.\n",
        "\n",
        "(pair는 보통 2차원 좌표 x,y 를 저장할 때 유용하게 쓰인다.)"
      ],
      "metadata": {
        "id": "FjcU_4Iqa-06"
      }
    },
    {
      "cell_type": "code",
      "source": [
        "# Python\n",
        "v = []\n",
        "v.append((123, 456))\n",
        "v.append((789, 987))\n",
        "print(\"size:\", len(v))\n",
        "for p in v:\n",
        "  print(p)"
      ],
      "metadata": {
        "colab": {
          "base_uri": "https://localhost:8080/"
        },
        "id": "v157wdHNjYob",
        "outputId": "5b14338b-2c92-42d9-86fd-62e363707c5c"
      },
      "execution_count": null,
      "outputs": [
        {
          "output_type": "stream",
          "name": "stdout",
          "text": [
            "size: 2\n",
            "(123, 456)\n",
            "(789, 987)\n"
          ]
        }
      ]
    },
    {
      "cell_type": "markdown",
      "source": [
        "##**연결리스트 Linked List** \n",
        "\n",
        "\n",
        "\n",
        "```\n",
        "//C++\n",
        "\n",
        "list<int> l;\n",
        "l.emplace_back(0);\n",
        "l.emplace_back(1);\n",
        "l.emplace_back(2);\n",
        "l.emplace_front(3);\n",
        "printf(\"size: %d\\n\", l.size());\n",
        "for(auto i:l)\n",
        "  printf(\"%d\\n\", i);\n",
        "```\n",
        "\n",
        "\n",
        "\n",
        "1.   삽입/삭제: O(1)\n",
        "2.   탐색: O(N)\n",
        "\n",
        "문제 풀이에서는 별로 안 쓰이지만(꼭 필요로 하는 경우는 많이 없다), *다른 자료구조들을 구현*할 때 많이 쓰인다.\n",
        "\n",
        "**배열과 반대되는 특성** 때문에 면접 단골 문제임\n",
        "\n",
        "연결 리스트에서는 **임의 접근이 불가능**. 어떤 인덱스의 주소를 찾으려면 시작 노드부터 차근차근 찾아가야 함.\n",
        "\n",
        "N번째 노드를 찾으려면 N번의 단계를 거쳐 찾을 수 있음... 😞\n",
        "\n",
        "삽입/삭제는 삽입하려는 위치의 이전, 이후 노드에만 관계를 맺어주면(혹은 끊어주면) 끝이라 시간복잡도가 O(1)"
      ],
      "metadata": {
        "id": "oyrv7rtHdsh1"
      }
    },
    {
      "cell_type": "markdown",
      "source": [
        "##**스택 Stack**\n",
        "\n",
        "\n",
        "\n",
        "```\n",
        "# Python\n",
        "\n",
        "s = []\n",
        "s.append(123)\n",
        "s.append(456)\n",
        "s.append(789)\n",
        "print(\"size:\", len(s))\n",
        "while len(s)>0:\n",
        "  print(s[-1])\n",
        "  s.pop(-1)\n",
        "\n",
        "\n",
        "//C++\n",
        "stack<int> s;\n",
        "s.push(123);\n",
        "s.push(456);\n",
        "s.push(789);\n",
        "printf(\"size: %d\\n\", s.size());\n",
        "while(!s.empty()) {\n",
        "  printf(\"%d\\n\", s.top());\n",
        "  s.pop();\n",
        "}\n",
        "```\n",
        "\n",
        "\n",
        "1.   삽입/삭제: O(1)\n",
        "2.   탐색: \n",
        "\n",
        "스택은 **쌓는다!** 는 개념\n",
        "\n",
        "데이터가 들어갈 때 순서와 나올 때 순서가 반대라는 점이 가장 큰 특징!\n",
        "\n",
        "First In Last Out**(FILO)** => **선입후출** / Last In First Out**(LIFO)** => **후입선출**\n",
        "\n",
        "스택에서 삭제 명령(pop)을 내리면 가장 상단 값(top 또는 head)이 빠져나감.  \n",
        "python은 stack을 제공하지 않기 때문에 그냥 리스트로 구현함,,,😞  \n",
        "실 사용 사례 : 웹 브라우저의 방문 기록을 스택에 저장 후 뒤로가기 구현\n",
        "\n",
        "\n",
        "\n"
      ],
      "metadata": {
        "id": "6srlD8JqgXMl"
      }
    },
    {
      "cell_type": "code",
      "source": [
        "# Python\n",
        "\n",
        "s = []\n",
        "s.append(123)\n",
        "s.append(456)\n",
        "s.append(789)\n",
        "print(\"size:\", len(s))\n",
        "while len(s)>0:\n",
        "  print(s[-1]) #-1이 top\n",
        "  s.pop() #그냥 pop()이라고 써도 됨\n",
        "\n",
        "print(s)"
      ],
      "metadata": {
        "id": "99gttnbWjcSy",
        "colab": {
          "base_uri": "https://localhost:8080/"
        },
        "outputId": "ef2e965d-17a1-4bf7-e4ff-05b3a50399ad"
      },
      "execution_count": null,
      "outputs": [
        {
          "output_type": "stream",
          "name": "stdout",
          "text": [
            "size: 3\n",
            "789\n",
            "456\n",
            "123\n",
            "[]\n"
          ]
        }
      ]
    },
    {
      "cell_type": "markdown",
      "source": [
        "##**큐 Queue**\n",
        "\n",
        "\n",
        "\n",
        "```\n",
        "# Python\n",
        "\n",
        "from collections import deque\n",
        "\n",
        "q = deque()\n",
        "q.append(123)\n",
        "q.append(456)\n",
        "q.append(789)\n",
        "print(\"size:\", len(q))\n",
        "while len(q) > 0:\n",
        "  print(q.popleft())\n",
        "\n",
        "\n",
        "//C++\n",
        "\n",
        "queue<int> q;\n",
        "q.push(123);\n",
        "q.push(456);\n",
        "q.push(789);\n",
        "printf(\"size: %d\\n\", q.size());\n",
        "while (!q.empty()) {\n",
        "  printf(\"%d\\n\", q.front());\n",
        "  q.pop();\n",
        "}\n",
        "```\n",
        "\n",
        "\n",
        "1.   삽입/삭제: O(1)\n",
        "2.   항목 추가\n",
        "\n",
        "**스택과 반대**되는 개념!\n",
        "\n",
        "배열으로 구현하면 삽입/삭제가 O(N)이 되는데, 연결 리스트나 포인터를 이용하면 큐를 제대로 구현할 수 있음\n",
        "\n",
        "Last In Last Out**(LILO)** => **후입후출** / First In First Out**(FIFO)** => **선입선출**\n",
        "\n",
        "실 사용 사례 : 유명 맛집 대기 목록 🍲\n"
      ],
      "metadata": {
        "id": "zX9pniOQl4u6"
      }
    },
    {
      "cell_type": "code",
      "source": [
        "#Python\n",
        "#Queue에는 multi-thread 지원해서 thread-safe한 기능이 포함돼 성능이 느림.\n",
        "\n",
        "from queue import Queue\n",
        "\n",
        "q = Queue()\n",
        "q.put(123)\n",
        "q.put(456)\n",
        "q.put(789)\n",
        "while not q.empty():\n",
        "  print(q.get())"
      ],
      "metadata": {
        "id": "xO0d3gj2tCRM"
      },
      "execution_count": null,
      "outputs": []
    },
    {
      "cell_type": "code",
      "source": [
        "# Python\n",
        "#따라서 deque(덱)을 사용 (double-ended queue : 양쪽에서 넣고 뺄 수 있는 queue)\n",
        "#queue의 상위호환같은 자료구조.\n",
        "#파이썬에서 queue를 쓰고 싶을 때 deque를 사용해서 풀어라\n",
        "\n",
        "from collections import deque\n",
        "\n",
        "q = deque()\n",
        "q.append(123) #appendleft()를 하면 왼쪽에 값 삽입 가능\n",
        "q.append(456)\n",
        "q.append(789)\n",
        "print(\"size:\", len(q))\n",
        "while len(q) > 0:\n",
        "  print(q.popleft()) #pop()은 오른쪽에서 값을 빼는 것, popleft()는 왼쪽\n",
        "\n",
        "print(q)"
      ],
      "metadata": {
        "id": "8lrmH2vjo5y5",
        "colab": {
          "base_uri": "https://localhost:8080/"
        },
        "outputId": "71ba170c-9cf6-4b82-c5f1-6a40b13375f8"
      },
      "execution_count": null,
      "outputs": [
        {
          "output_type": "stream",
          "name": "stdout",
          "text": [
            "0\n",
            "size: 3\n",
            "123\n",
            "456\n",
            "789\n",
            "deque([])\n"
          ]
        }
      ]
    },
    {
      "cell_type": "markdown",
      "source": [
        "##**우선순위 큐 Priority Queue (Heap)**\n",
        "\n",
        "\n",
        "\n",
        "```\n",
        "# Python : min-heap\n",
        "\n",
        "import heapq\n",
        "\n",
        "pq = []\n",
        "heapq.heappush(pq, 456)\n",
        "heapq.heappush(pq, 123)\n",
        "heapq.heappush(pq, 789)\n",
        "print(\"size: \", len(pq))\n",
        "while len(pq) > 0:\n",
        "  print(heapq.heappop(pq))\n",
        "\n",
        "\n",
        "//C++ : max-heap\n",
        "\n",
        "priority_queue<int> pq;\n",
        "pq.push(456);\n",
        "pq.push(456);\n",
        "pq.push(456);\n",
        "printf(\"size: %d\\n\", pq.size());\n",
        "while(!pq.empty()) {\n",
        "  printf(\"%d\\n\", pq.top());\n",
        "  pq.pop();\n",
        "}\n",
        "```\n",
        "\n",
        "\n",
        "1.   삽입/삭제: O(logN) -> 밑이 2인 logN\n",
        "2.   항목 추가\n",
        "\n",
        "\n",
        "**이진트리 형태**로 되어 있음 🌳\n",
        "\n",
        "최상단 노드(root node)에 **가장 큰 값**이 위치 -> max-heap : C++\n",
        "\n",
        "최상단 노드(root node)에 **가장 작은 값**이 위치 -> min-heap : Python\n",
        "\n",
        "값을 빼면(pop) 최상단 노드가 빠지게 됨. C++일 경우 최댓값, Python일 경우 최솟값\n",
        "\n"
      ],
      "metadata": {
        "id": "Pk_WmAQxvheJ"
      }
    },
    {
      "cell_type": "code",
      "source": [
        "# Python\n",
        "\n",
        "import heapq as hq\n",
        "\n",
        "pq = []\n",
        "hq.heappush(pq, 456)\n",
        "hq.heappush(pq, 123)\n",
        "hq.heappush(pq, 789)\n",
        "print(\"size: \", len(pq))\n",
        "while len(pq) > 0:\n",
        "  print(\"root node: \", pq[0]) #최상단 노드 확인\n",
        "  print(hq.heappop(pq))"
      ],
      "metadata": {
        "id": "-_Z0Tixc4Hcz"
      },
      "execution_count": null,
      "outputs": []
    },
    {
      "cell_type": "code",
      "source": [
        "from queue import PriorityQueue #속도가 느림(thread-safe) \n",
        "#따라서 이걸 사용하는 대신 heapq 사용\n",
        "\n",
        "pq = PriorityQueue()\n",
        "pq.put(6)\n",
        "pq.put(10)\n",
        "pq.put(-5)\n",
        "pq.put(0)\n",
        "pq.put(8)\n",
        "\n",
        "while not pq.empty():\n",
        "  print(pq.get()) #pop"
      ],
      "metadata": {
        "id": "iqvmDPCM5v2f",
        "colab": {
          "base_uri": "https://localhost:8080/"
        },
        "outputId": "664456e9-f303-4db3-bbbe-24d5e74374f3"
      },
      "execution_count": null,
      "outputs": [
        {
          "output_type": "stream",
          "name": "stdout",
          "text": [
            "-5\n",
            "0\n",
            "6\n",
            "8\n",
            "10\n"
          ]
        }
      ]
    },
    {
      "cell_type": "markdown",
      "source": [
        "##**맵 Map (Dictionary in Python)**\n",
        "\n",
        "\n",
        "```\n",
        "# Python\n",
        "\n",
        "m = {}\n",
        "m[\"Hyein\"] = 40\n",
        "m[\"Helen\"] = 100\n",
        "m[\"Nate\"] = 50\n",
        "print(\"size: \", len(m))\n",
        "for k in m:\n",
        "  print(k, m[k])\n",
        "\n",
        "\n",
        "//C++\n",
        "map<String, int> m;\n",
        "m[\"Hyein\"] = 40;\n",
        "m[\"Helen\"] = 100;\n",
        "m[\"Nate\"] = 50;\n",
        "printf(\"size: %d\\n\", m.size());\n",
        "for (auto p : m)\n",
        "  printf(\"%d, %d\\n\", p.first, p.second);\n",
        "```\n",
        "\n",
        "\n",
        "1.   삽입/삭제: O(logN) in C++, O(1) in python\n",
        "2.   항목 추가\n",
        "\n",
        "<u>Key, Value 쌍을 갖는다</u>는 게 가장 큰 특징!  (ex)JSON\n",
        "\n",
        "-> Key는 중복을 허용하지 ❌ but Value는 가능\n",
        "\n",
        "\n",
        "---\n",
        "\n",
        "**in Python** \n",
        "\n",
        "해시로 구성\n",
        "\n",
        "![hash table](https://images.velog.io/images/chjh121/post/d5fd4d40-6df3-4bad-a0de-73ec4dc9a682/1200px-Hash_table_3_1_1_0_1_0_0_SP.svg.png)\n",
        "\n",
        "\n",
        "**in C++**\n",
        "\n",
        "red-black tree라는 트리 종류 중 하나 (그래서 시간 복잡도가 O(logN))\n",
        "\n",
        "![red-black tree](https://upload.wikimedia.org/wikipedia/commons/thumb/6/66/Red-black_tree_example.svg/500px-Red-black_tree_example.svg.png)"
      ],
      "metadata": {
        "id": "xokuS867BUmG"
      }
    },
    {
      "cell_type": "code",
      "source": [
        "# Python\n",
        "\n",
        "m = {}\n",
        "m[\"Hyein\"] = 40\n",
        "m[\"Helen\"] = 100\n",
        "m[\"Nate\"] = 50\n",
        "print(\"size: \", len(m))\n",
        "for k in m:\n",
        "  print(k, m[k])"
      ],
      "metadata": {
        "id": "ih8JHGPGHy6s"
      },
      "execution_count": null,
      "outputs": []
    },
    {
      "cell_type": "markdown",
      "source": [
        "##**집합 Set**\n",
        "\n",
        "\n",
        "\n",
        "```\n",
        "# Python\n",
        "\n",
        "s = set()\n",
        "s.add(456)\n",
        "s.add(12)\n",
        "s.add(456)\n",
        "s.add(7890)\n",
        "s.add(7890)\n",
        "s.add(456)\n",
        "\n",
        "print(\"size: \", len(s))\n",
        "for i in s:\n",
        "  print(i)\n",
        "\n",
        "//C++\n",
        "\n",
        "set<int> s;\n",
        "s.insert();\n",
        "s.insert();\n",
        "s.insert();\n",
        "s.insert();\n",
        "s.insert();\n",
        "s.insert();\n",
        "\n",
        "printf(\"size: %d\\n\", s.size());\n",
        "for (auto i : s)\n",
        "  printf(\"%d\\n\", i);\n",
        "```\n",
        "\n",
        "\n",
        "1.   삽입/삭제: O(logN) in C++, O(1) in Python\n",
        "2.   항목 추가\n",
        "\n",
        "\n",
        "집합의 가장 큰 특징은 **중복을 허용하지 않는다**는 점!\n",
        "\n",
        "Python에서 집합에 pop을 쓰면 임의의 값이 빠짐... 진짜 랜덤한 값이 빠지기 때문에 일반적으로는 쓰일 일이 없다 🙁\n",
        "\n",
        "특정 값을 빼고 싶을 때는 remove(value)를 써주면 됨"
      ],
      "metadata": {
        "id": "632f_tWCKvwe"
      }
    },
    {
      "cell_type": "code",
      "source": [
        "# Python\n",
        "\n",
        "s = set()\n",
        "s.add(456)\n",
        "s.add(12)\n",
        "s.add(456)\n",
        "s.add(7890)\n",
        "s.add(7890)\n",
        "s.add(456)\n",
        "\n",
        "print(\"size: \", len(s))\n",
        "for i in s:\n",
        "  print(i)"
      ],
      "metadata": {
        "id": "g_IQEYvRLihl"
      },
      "execution_count": null,
      "outputs": []
    },
    {
      "cell_type": "markdown",
      "source": [
        "##**예제 풀어보기**\n"
      ],
      "metadata": {
        "id": "a2t9TFUfOR5J"
      }
    },
    {
      "cell_type": "markdown",
      "source": [
        "###[백준 - 9012.괄호](https://www.acmicpc.net/problem/9012)\n",
        "\n",
        "괄호 문자열(Parenthesis String, PS)은 두 개의 괄호 기호인 ‘(’ 와 ‘)’ 만으로 구성되어 있는 문자열이다. 그 중에서 괄호의 모양이 바르게 구성된 문자열을 올바른 괄호 문자열(Valid PS, VPS)이라고 부른다. 한 쌍의 괄호 기호로 된 “( )” 문자열은 기본 VPS 이라고 부른다. 만일 x 가 VPS 라면 이것을 하나의 괄호에 넣은 새로운 문자열 “(x)”도 VPS 가 된다. 그리고 두 VPS x 와 y를 접합(concatenation)시킨 새로운 문자열 xy도 VPS 가 된다. 예를 들어 “(())()”와 “((()))” 는 VPS 이지만 “(()(”, “(())()))” , 그리고 “(()” 는 모두 VPS 가 아닌 문자열이다. \n",
        "\n",
        "여러분은 입력으로 주어진 괄호 문자열이 VPS 인지 아닌지를 판단해서 그 결과를 YES 와 NO 로 나타내어야 한다. \n",
        "\n",
        "입력 데이터는 표준 입력을 사용한다. 입력은 T개의 테스트 데이터로 주어진다. 입력의 첫 번째 줄에는 입력 데이터의 수를 나타내는 정수 T가 주어진다. 각 테스트 데이터의 첫째 줄에는 괄호 문자열이 한 줄에 주어진다. 하나의 괄호 문자열의 길이는 2 이상 50 이하이다. "
      ],
      "metadata": {
        "id": "6lCMaHPKYp7o"
      }
    },
    {
      "cell_type": "code",
      "source": [
        "for _ in range(int(input())):\n",
        "  stk = []\n",
        "  isVPS = True\n",
        "  for ch in input():\n",
        "    if ch == '(':\n",
        "      stk.append(ch)\n",
        "    elif stk:\n",
        "      stk.pop()\n",
        "    else:\n",
        "      isVPS = False\n",
        "      break\n",
        "  \n",
        "  if stk:\n",
        "    isVPS = False\n",
        "  \n",
        "  print('YES' if isVPS else 'NO')"
      ],
      "metadata": {
        "colab": {
          "base_uri": "https://localhost:8080/"
        },
        "id": "z2Mh2C0Rl9gi",
        "outputId": "70e30510-b9d3-4c99-ba6e-03afcb82b432"
      },
      "execution_count": null,
      "outputs": [
        {
          "output_type": "stream",
          "name": "stdout",
          "text": [
            "1\n",
            "((\n",
            "NO\n"
          ]
        }
      ]
    },
    {
      "cell_type": "markdown",
      "source": [
        "###[백준 - 2164.카드2](https://www.acmicpc.net/problem/2164)\n",
        "\n",
        "N장의 카드가 있다. 각각의 카드는 차례로 1부터 N까지의 번호가 붙어 있으며, 1번 카드가 제일 위에, N번 카드가 제일 아래인 상태로 순서대로 카드가 놓여 있다.\n",
        "\n",
        "이제 다음과 같은 동작을 카드가 한 장 남을 때까지 반복하게 된다. 우선, 제일 위에 있는 카드를 바닥에 버린다. 그 다음, 제일 위에 있는 카드를 제일 아래에 있는 카드 밑으로 옮긴다.\n",
        "\n",
        "예를 들어 N=4인 경우를 생각해 보자. 카드는 제일 위에서부터 1234 의 순서로 놓여있다. 1을 버리면 234가 남는다. 여기서 2를 제일 아래로 옮기면 342가 된다. 3을 버리면 42가 되고, 4를 밑으로 옮기면 24가 된다. 마지막으로 2를 버리고 나면, 남는 카드는 4가 된다.\n",
        "\n",
        "N이 주어졌을 때, 제일 마지막에 남게 되는 카드를 구하는 프로그램을 작성하시오.\n",
        "\n",
        "\n",
        "첫째 줄에 정수 N(1 ≤ N ≤ 500,000)이 주어진다."
      ],
      "metadata": {
        "id": "__KYKGKXn3o5"
      }
    },
    {
      "cell_type": "code",
      "source": [
        "from collections import deque\n",
        "\n",
        "n = int(input())\n",
        "q = deque()\n",
        "temp = 0 #생략\n",
        "\n",
        "for i in range(1, n+1): #q = deque(range(1, n+1))\n",
        "  q.append(i)\n",
        "\n",
        "while len(q) > 1:\n",
        "  q.popleft()\n",
        "  temp = q[0]\n",
        "  q.popleft()\n",
        "  q.append(temp) #q.append(q.popleft())\n",
        "\n",
        "print(q[0])"
      ],
      "metadata": {
        "colab": {
          "base_uri": "https://localhost:8080/"
        },
        "id": "4Arm09w_n3Qw",
        "outputId": "03b87e38-7fad-42e2-97f1-c6b7cc093ed9"
      },
      "execution_count": null,
      "outputs": [
        {
          "output_type": "stream",
          "name": "stdout",
          "text": [
            "500000\n",
            "475712\n"
          ]
        }
      ]
    },
    {
      "cell_type": "markdown",
      "source": [
        "###[백준 -11286.절댓값 힙](https://www.acmicpc.net/problem/11286)\n",
        "\n",
        "절댓값 힙은 다음과 같은 연산을 지원하는 자료구조이다.\n",
        "\n",
        "배열에 정수 x (x ≠ 0)를 넣는다.\n",
        "배열에서 절댓값이 가장 작은 값을 출력하고, 그 값을 배열에서 제거한다. 절댓값이 가장 작은 값이 여러개일 때는, 가장 작은 수를 출력하고, 그 값을 배열에서 제거한다.\n",
        "프로그램은 처음에 비어있는 배열에서 시작하게 된다.\n",
        "\n",
        "첫째 줄에 연산의 개수 N(1≤N≤100,000)이 주어진다. 다음 N개의 줄에는 연산에 대한 정보를 나타내는 정수 x가 주어진다. 만약 x가 0이 아니라면 배열에 x라는 값을 넣는(추가하는) 연산이고, x가 0이라면 배열에서 절댓값이 가장 작은 값을 출력하고 그 값을 배열에서 제거하는 경우이다. 입력되는 정수는 -2^31보다 크고, 2^31보다 작다.\n",
        "\n",
        "입력에서 0이 주어진 회수만큼 답을 출력한다. 만약 배열이 비어 있는 경우인데 절댓값이 가장 작은 값을 출력하라고 한 경우에는 0을 출력하면 된다."
      ],
      "metadata": {
        "id": "1rhTdL8W7RFc"
      }
    },
    {
      "cell_type": "code",
      "source": [
        "import heapq as hq\n",
        "import sys\n",
        "\n",
        "pq = []\n",
        "\n",
        "input = sys.stdin.readline\n",
        "\n",
        "for _ in range(int(input())):\n",
        "  n = int(input())\n",
        "  if n != 0: # if n:\n",
        "    hq.heappush(pq, (abs(n), n))\n",
        "  elif n == 0 and len(pq) > 0: #else: print(hq.heappop(pq)[1] if pq else 0)\n",
        "    print(hq.heappop(pq)[1])\n",
        "  else:\n",
        "    print(0)"
      ],
      "metadata": {
        "id": "w860gcyg7RQI"
      },
      "execution_count": null,
      "outputs": []
    },
    {
      "cell_type": "markdown",
      "source": [
        "###[백준 - 1302.베스트셀러](https://www.acmicpc.net/problem/1302)\n",
        "\n",
        "김형택은 탑문고의 직원이다. 김형택은 계산대에서 계산을 하는 직원이다. 김형택은 그날 근무가 끝난 후에, 오늘 판매한 책의 제목을 보면서 가장 많이 팔린 책의 제목을 칠판에 써놓는 일도 같이 하고 있다.\n",
        "\n",
        "오늘 하루 동안 팔린 책의 제목이 입력으로 들어왔을 때, 가장 많이 팔린 책의 제목을 출력하는 프로그램을 작성하시오.\n",
        "\n",
        "첫째 줄에 오늘 하루 동안 팔린 책의 개수 N이 주어진다. 이 값은 1,000보다 작거나 같은 자연수이다. 둘째부터 N개의 줄에 책의 제목이 입력으로 들어온다. 책의 제목의 길이는 50보다 작거나 같고, 알파벳 소문자로만 이루어져 있다.\n",
        "\n",
        "첫째 줄에 가장 많이 팔린 책의 제목을 출력한다. 만약 가장 많이 팔린 책이 여러 개일 경우에는 사전 순으로 가장 앞서는 제목을 출력한다."
      ],
      "metadata": {
        "id": "zszNB8kylfZD"
      }
    },
    {
      "cell_type": "code",
      "source": [
        "d = dict()\n",
        "for _ in range(int(input())):\n",
        "  book = input()\n",
        "  if book in d:\n",
        "    d[book] += 1\n",
        "  else:\n",
        "    d[book] = 1\n",
        "\n",
        "top = 0\n",
        "title = ''\n",
        "\n",
        "for b in d:\n",
        "  if d[b] > top:\n",
        "    top = d[b]\n",
        "    title = b\n",
        "  elif d[b] == top:\n",
        "    if b < title:\n",
        "      title = b\n",
        "  else:\n",
        "    continue\n",
        "\n",
        "print(title)"
      ],
      "metadata": {
        "id": "1WIC5GK_8qOx"
      },
      "execution_count": null,
      "outputs": []
    },
    {
      "cell_type": "code",
      "source": [
        "#컴공선배 풀이\n",
        "d = dict()\n",
        "for _ in range(int(input())):\n",
        "  book = input()\n",
        "  if book in d:\n",
        "    d[book] += 1\n",
        "  else:\n",
        "    d[book] = 1\n",
        "  \n",
        "  #d.keys() -> key값만 모아 반환\n",
        "  #d.values() -> value 값만 모아 반환\n",
        "  #d.items() -> key value를 묶어서 전부 반환\n",
        "\n",
        "m = max(d.values())\n",
        "candi = []\n",
        "for k, v in d.items():\n",
        "  if v == m:\n",
        "    candi.append(k)\n",
        "\n",
        "candi.sort()\n",
        "print(candi[0])\n",
        "#print(sorted(candi)[0])"
      ],
      "metadata": {
        "id": "xe8Nikn_MWXb"
      },
      "execution_count": null,
      "outputs": []
    },
    {
      "cell_type": "markdown",
      "source": [
        "###**Binary Gap -Codility**\n",
        "\n",
        "A binary gap within a positive integer N is any maximal sequence of consecutive zeros that is surrounded by ones at both ends in the binary representation of N.\n",
        "\n",
        "For example, number 9 has binary representation 1001 and contains a binary gap of length 2. The number 529 has binary representation 1000010001 and contains two binary gaps: one of length 4 and one of length 3. The number 20 has binary representation 10100 and contains one binary gap of length 1. The number 15 has binary representation 1111 and has no binary gaps. The number 32 has binary representation 100000 and has no binary gaps.\n",
        "\n",
        "Write a function:\n",
        "\n",
        "def solution(N)\n",
        "\n",
        "that, given a positive integer N, returns the length of its longest binary gap. The function should return 0 if N doesn't contain a binary gap.\n",
        "\n",
        "For example, given N = 1041 the function should return 5, because N has binary representation 10000010001 and so its longest binary gap is of length 5. Given N = 32 the function should return 0, because N has binary representation '100000' and thus no binary gaps.\n",
        "\n",
        "Write an efficient algorithm for the following assumptions:\n",
        "\n",
        "N is an integer within the range [1..2,147,483,647].  \n",
        "Copyright 2009–2022 by Codility Limited. All Rights Reserved. Unauthorized copying, publication or disclosure prohibited."
      ],
      "metadata": {
        "id": "kS1rTb3uSXwZ"
      }
    },
    {
      "cell_type": "code",
      "source": [
        "# you can write to stdout for debugging purposes, e.g.\n",
        "# print(\"this is a debug message\")\n",
        "\n",
        "#code from unknown\n",
        "def solution(N):\n",
        "\n",
        "    \"\"\"\n",
        "    str.strip() 메소드는 양 끝에서 연속된 문자를 지울 수 있다\n",
        "    split()은 안에 있는 값을 기준으로 문자열을 나눌 수 있게 해주는 메소드\n",
        "    시간복잡도 O(N)\n",
        "    \"\"\"\n",
        "    return len(max(format(N, 'b').strip('0').split('1')))"
      ],
      "metadata": {
        "id": "yOtBh34GS2tA"
      },
      "execution_count": null,
      "outputs": []
    },
    {
      "cell_type": "markdown",
      "source": [
        "##**마무리**\n",
        "\n",
        "---\n",
        "\n",
        "\n",
        "\n",
        "*   array, vector : 삽입/삭제는 적고, 탐색이 많은 경우\n",
        "*   stack : 데이터가 들어갈 때 순서와 나올 때 순서가 반대, **LIFO**\n",
        "*   queue : 스택과 반대, **FIFO**\n",
        "* priority_queue(heap) : 이진트리 형태, min-heap : Python /max-heap : C++, 값을 빼면(pop) 최상단 노드가 빠지게 됨\n",
        "* map(dictionary) :** Key, Value 쌍**을 갖는다 \n",
        "* set : 중복을 허용하지 않는다\n",
        "\n"
      ],
      "metadata": {
        "id": "J3On29sjOYSz"
      }
    },
    {
      "cell_type": "markdown",
      "source": [
        "#**완전탐색**\n",
        "\n",
        "---\n",
        "<br/>\n",
        "\n",
        "####- **장점**: **반드시** 답을 찾을 수 있다\n",
        "\n",
        "전부 살펴봤는데 답이 없다? ❌🤔  \n",
        "*'답이 존재하지 않는다'*는 사실을 알아낸 것! 🙆  \n",
        "<br/>\n",
        "    \n",
        "####- **단점**: 오래 걸린다\n",
        "리소스를 많이 잡아 먹는다... 😞  \n",
        "\n",
        "**trade-off 관계(반비례)**: 컴퓨팅 자원 💻 <-> 시간 🕑\n",
        "> 알고리즘을 풀 때 채점 서버의 컴퓨팅 자원은 **한정적**이므로, 완전탐색으로 풀게 되면 얼마나 오래 걸릴지, 제한 시간 안에 돌아가는 코드인지 살펴봐야 함 **(시간복잡도 체크!!)**"
      ],
      "metadata": {
        "id": "QvnqNJJkPsCE"
      }
    },
    {
      "cell_type": "markdown",
      "source": [
        "##**브루트 포스 Brute-force (무차별 대입)**\n",
        "\n",
        "\n",
        "\n",
        "> ex. 비밀번호 숫자 4자리:  \n",
        "경우의 수 10^4 = 10,000 가지를 전부 해보면 컴퓨터로는 금방 해제할 수 있음 🔓  \n",
        "따라서 추가 보안(입력 횟수 제한), 비밀번호 길이 늘이기, 특수문자, 영어 대소문자 추가 등의 조치를 취함\n",
        "\n",
        "\n",
        "\n",
        "*   **가장 확실한 방법**이라 의외로 많이 쓰임\n",
        "*   학계, PS(Problem Solving)에서도 널리 쓰임(N이 작을 때 일부에 한해 이 방법을 쓰고 그 이후의 영역에는 다른 풀이를 쓰는 방식)\n",
        "*   **4색정리 증명**에도 쓰였음\n",
        "*   보안이 허술한 곳은 이런 방법으로 계정 탈취 가능\n",
        "\n",
        "> **4색정리?**  \n",
        "임의의 지도가 있을 때 4가지 색으로 모든 구역을 나눠서 표기할 수 있나... 이런 난제가 있었다고 함  \n",
        "그 방법이 브루트 포스였다고 함 🤷\n",
        "\n",
        "\n",
        "\n",
        "\n"
      ],
      "metadata": {
        "id": "Jo-hIIGiVevW"
      }
    },
    {
      "cell_type": "markdown",
      "source": [
        "##**예제**"
      ],
      "metadata": {
        "id": "WXjEMkwsYVBD"
      }
    },
    {
      "cell_type": "markdown",
      "source": [
        "###N개의 수를 입력 받아서 두 수를 뽑아 합이 가장 클 때?\n",
        "\n",
        "ex.  \n",
        "N = 8  \n",
        "62 3 40 17 5 8 26 99  \n",
        "\n",
        "8C2 = 8 * 7 / 2 * 1 = 28 -> 모든 조합 경우의 수  \n",
        "N이 10일 경우는 같은 방법으로 45가지  \n",
        "\n",
        "if) 시간 제한: 1초, 2<= N <= 1,000,000  \n",
        "-> NC2 = 10^6 * (10^6 -1) / 2  \n",
        "시간 복잡도가 **O(N^2)**이 됨😞 (시간 초과 발생)\n",
        "\n",
        "\n",
        ">N이 1,000정도라면 완전탐색으로 풀 수 있겠지만, N의 범위가 너무 크므로 **완전탐색으로 풀지 말자**는 결론을 낼 수 있어야 함\n",
        "\n",
        "\n",
        "따라서, 정렬을 해서 풀 수 있지 않을까? 🤔  \n",
        "-> 정렬은 일반적으로 O(NlogN)의 시간복잡도를 가진다"
      ],
      "metadata": {
        "id": "pobKApB2Yd3j"
      }
    },
    {
      "cell_type": "markdown",
      "source": [
        "###**순열**\n",
        "\n",
        "\n",
        "\n",
        "*   모든 경우의 수를 **순서대로** 살필 때 용이\n",
        "*   삼성에서 **next_permutation**을 활용하면 쉽게 풀리는 문제들이 많이 나옴\n",
        "\n",
        "\n",
        "\n",
        "\n",
        "```\n",
        "# Python\n",
        "\n",
        "from itertools import permutations\n",
        "\n",
        "v = [0, 1, 2, 3]\n",
        "\n",
        "for i in permutations(v, 4):\n",
        "  print(i)\n",
        "\n",
        "\n",
        "//C++\n",
        "//algorithm 헤더를 include 해주어야 함 \n",
        "\n",
        "vector<int> v{0, 1, 2, 3};\n",
        "do {\n",
        "  for (int i : v) printf(\"%d\", i);\n",
        "\n",
        "  printf(\"\\n\");\n",
        "} while (next_permutation(v.begin(), v.end()));\n",
        "```\n",
        "\n",
        "\n"
      ],
      "metadata": {
        "id": "HrdU6fn9d5SN"
      }
    },
    {
      "cell_type": "code",
      "source": [
        "# Python\n",
        "\n",
        "from itertools import permutations as pm\n",
        "\n",
        "v = [0, 1, 2, 3]\n",
        "\n",
        "for i in pm(v, 4): #몇 가지 숫자의 조합으로 할 건지 정할 수 있음\n",
        "  print(i)"
      ],
      "metadata": {
        "id": "-dRWYk_MdJkS"
      },
      "execution_count": null,
      "outputs": []
    },
    {
      "cell_type": "markdown",
      "source": [
        "###**조합 combination**\n",
        "\n",
        "C++에서는 조합이 따로 없고, Python에선 combination까지 기본으로 제공함  \n",
        "\n",
        "순열과 달리 순서가 중요하지 않음\n"
      ],
      "metadata": {
        "id": "NGvFowdsf9cB"
      }
    },
    {
      "cell_type": "code",
      "source": [
        "#Python\n",
        "\n",
        "from itertools import combinations as cb\n",
        "\n",
        "v = [0, 1, 2, 3]\n",
        "\n",
        "for i in cb(v, 2):\n",
        "  print(i)"
      ],
      "metadata": {
        "id": "nugt_8O3gJOt"
      },
      "execution_count": null,
      "outputs": []
    },
    {
      "cell_type": "markdown",
      "source": [
        "###[백준 - 2309. 일곱 난쟁이](https://www.acmicpc.net/problem/2309)\n",
        "\n",
        "왕비를 피해 일곱 난쟁이들과 함께 평화롭게 생활하고 있던 백설공주에게 위기가 찾아왔다. 일과를 마치고 돌아온 난쟁이가 일곱 명이 아닌 아홉 명이었던 것이다.\n",
        "\n",
        "아홉 명의 난쟁이는 모두 자신이 \"백설 공주와 일곱 난쟁이\"의 주인공이라고 주장했다. 뛰어난 수학적 직관력을 가지고 있던 백설공주는, 다행스럽게도 일곱 난쟁이의 키의 합이 100이 됨을 기억해 냈다.\n",
        "\n",
        "아홉 난쟁이의 키가 주어졌을 때, 백설공주를 도와 일곱 난쟁이를 찾는 프로그램을 작성하시오.\n",
        "\n",
        "아홉 개의 줄에 걸쳐 난쟁이들의 키가 주어진다. 주어지는 키는 100을 넘지 않는 자연수이며, 아홉 난쟁이의 키는 모두 다르며, 가능한 정답이 여러 가지인 경우에는 아무거나 출력한다.\n",
        "\n",
        "일곱 난쟁이의 키를 오름차순으로 출력한다. 일곱 난쟁이를 찾을 수 없는 경우는 없다."
      ],
      "metadata": {
        "id": "zhae57_xhwY_"
      }
    },
    {
      "cell_type": "code",
      "source": [
        "from itertools import combinations as cb\n",
        "\n",
        "h = []\n",
        "temp = 0\n",
        "\n",
        "for _ in range(9):\n",
        "  h.append(int(input()))\n",
        "\n",
        "for i in cb(h, 7):\n",
        "  for j in i:\n",
        "    temp = temp + j\n",
        "  if(temp == 100):\n",
        "    for idx in sorted(i):\n",
        "      print(idx)\n",
        "    break\n",
        "  else:\n",
        "    temp = 0"
      ],
      "metadata": {
        "id": "8hJS1zrBh_Qo"
      },
      "execution_count": null,
      "outputs": []
    },
    {
      "cell_type": "code",
      "source": [
        "#컴공선배 풀이 - 틀린 풀이 (100이 되는 경우가 여러가지일 경우를 생각하지 않음)\n",
        "\n",
        "from itertools import combinations\n",
        "\n",
        "h = [int(input()) for _ in range(9)]\n",
        "for com in combinations(h, 7):\n",
        "  if sum(com) == 100:\n",
        "    for height in sorted(com):\n",
        "      print(height)"
      ],
      "metadata": {
        "id": "wWL_RM06AilH"
      },
      "execution_count": null,
      "outputs": []
    },
    {
      "cell_type": "code",
      "source": [
        "#컴공선배 풀이 - 맞는 풀이\n",
        "\n",
        "from itertools import combinations\n",
        "\n",
        "h = [int(input()) for _ in range(9)]\n",
        "for com in combinations(h, 7):\n",
        "  if sum(com) == 100:\n",
        "    for height in sorted(com):\n",
        "      print(height)\n",
        "    break #답을 찾았을 경우 break문으로 빠져나와주어야 print를 여러 번 수행하지 않을 수 있음"
      ],
      "metadata": {
        "id": "eHWAG9JnJSfG"
      },
      "execution_count": null,
      "outputs": []
    },
    {
      "cell_type": "code",
      "source": [
        "#컴공선배 풀이 - 조합을 쓰지 않을 경우\n",
        "\n",
        "h = [int(input()) for _ in range(9)]\n",
        "h.sort()\n",
        "tot = sum(h)\n",
        "def f():\n",
        "  for i in range(8):\n",
        "    for j in range(i+1, 9):\n",
        "      if tot - h[i] - h[j] == 100:\n",
        "        for k in range(9):\n",
        "          if i != k and j != k:\n",
        "            print(h[k])\n",
        "        return #아니면 함수로 안 빼고 exit()을 쓰는 방법도 있음\n",
        "\n",
        "f()"
      ],
      "metadata": {
        "id": "GmoCO5xC6U95"
      },
      "execution_count": null,
      "outputs": []
    },
    {
      "cell_type": "markdown",
      "source": [
        "##**정리**\n",
        "\n",
        "\n",
        "\n",
        "1.   무식하게 모든 경우의 수를 다 살펴도 **시간 초과**⏰❌  가 나지 않을지 확인!\n",
        "2.   될 거 같으면 완탐으로 문제를 푼다\n",
        "\n",
        "안 될 거 같으면 더 효율적인 알고리즘을 찾아보자... (그리디, DP, 이분법 등)\n",
        "\n"
      ],
      "metadata": {
        "id": "kuBeH6cU9oxt"
      }
    },
    {
      "cell_type": "markdown",
      "source": [
        "#**탐욕법 Greedy Algorithm**\n",
        "\n",
        "\n",
        "\n",
        "---\n",
        "\n",
        "\n",
        "\n",
        "*   매 '순간'마다 **최선의 경우**👍만 골라 간다\n",
        "*   다른 경우는 고려 ❌ 나중을 생각 ❌\n",
        "\n",
        "\n",
        "> 예를 들어 A, B, C, D 가 있을 때, B를 고르는 것이 지금 최선이지만, 나중을 고려했을 땐 D가 최선일 때를 그리디 알고리즘은 고려하지 않음\n",
        "\n",
        "\n",
        "\n",
        "*   모든 경우를 보지 않으니, *완전탐색보다 빠르다*!\n",
        "*   어떤 경우가 **최선**인지 찾는 게 포인트 -> 규칙성을 찾아야 하기도\n",
        "\n",
        "\n",
        "\n"
      ],
      "metadata": {
        "id": "6rzCUl6W-I71"
      }
    },
    {
      "cell_type": "markdown",
      "source": [
        "##**예제**"
      ],
      "metadata": {
        "id": "PZHu0pr8AK1A"
      }
    },
    {
      "cell_type": "markdown",
      "source": [
        "###**동전 거스름돈 문제**\n",
        "\n",
        "\n",
        "\n",
        "*   10, 50, 100, 500 동전들을 무한하게 갖고 있다\n",
        "*   손님에게 800원을 거슬러주려고 할 때, 동전을 최소한으로 주는 방법은?\n",
        "\n"
      ],
      "metadata": {
        "id": "g0h7M89BAQcd"
      }
    },
    {
      "cell_type": "code",
      "source": [
        "change = int(input())\n",
        "coin = 0\n",
        "while change:\n",
        "  if change / 500 > 1:\n",
        "    coin += change // 500\n",
        "    change = change % 500\n",
        "  elif change / 100 > 1:\n",
        "    coin += change // 100\n",
        "    change = change % 100\n",
        "  elif change / 50 > 1:\n",
        "    coin += change // 50\n",
        "    change = int(change % 50)\n",
        "  elif change / 10 > 1:\n",
        "    coin += change // 10\n",
        "    change = int(change % 10)\n",
        "\n",
        "print(coin)"
      ],
      "metadata": {
        "colab": {
          "base_uri": "https://localhost:8080/"
        },
        "id": "nnVFqtJbAcQx",
        "outputId": "d76dd46d-ae4f-46a5-c3cb-c2c82f1ebb3d"
      },
      "execution_count": 18,
      "outputs": [
        {
          "output_type": "stream",
          "name": "stdout",
          "text": [
            "800\n",
            "4\n"
          ]
        }
      ]
    }
  ]
}